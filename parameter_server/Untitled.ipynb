{
 "cells": [
  {
   "cell_type": "code",
   "execution_count": 1,
   "metadata": {},
   "outputs": [
    {
     "name": "stderr",
     "output_type": "stream",
     "text": [
      "/anaconda2/envs/py3/lib/python3.5/importlib/_bootstrap.py:222: RuntimeWarning: compiletime version 3.6 of module 'tensorflow.python.framework.fast_tensor_util' does not match runtime version 3.5\n",
      "  return f(*args, **kwds)\n"
     ]
    },
    {
     "name": "stdout",
     "output_type": "stream",
     "text": [
      "WARNING:tensorflow:From /anaconda2/envs/py3/lib/python3.5/site-packages/tensorflow/contrib/learn/python/learn/datasets/base.py:198: retry (from tensorflow.contrib.learn.python.learn.datasets.base) is deprecated and will be removed in a future version.\n",
      "Instructions for updating:\n",
      "Use the retry module or similar alternatives.\n"
     ]
    }
   ],
   "source": [
    "from __future__ import absolute_import\n",
    "from __future__ import division\n",
    "from __future__ import print_function\n",
    "\n",
    "import argparse\n",
    "import numpy as np\n",
    "import time\n",
    "\n",
    "import ray\n",
    "import model\n",
    "\n",
    "num_workers = 4\n",
    "backups = 2\n",
    "\n",
    "@ray.remote\n",
    "class ParameterServer(object):\n",
    "    def __init__(self, learning_rate):\n",
    "        self.net = model.SimpleCNN(learning_rate=learning_rate)\n",
    "\n",
    "    def apply_gradients(self, *gradients):\n",
    "        self.net.apply_gradients(np.mean(gradients, axis=0))\n",
    "        return self.net.variables.get_flat()\n",
    "\n",
    "    def get_weights(self):\n",
    "        return self.net.variables.get_flat()\n",
    "\n",
    "    def set_weights(self, weights):\n",
    "        return self.net.variables.set_flat(weights)\n",
    "\n",
    "\n",
    "@ray.remote\n",
    "class Worker(object):\n",
    "    def __init__(self, worker_index, batch_size=50, curritr=0):\n",
    "        self.worker_index = worker_index\n",
    "        self.batch_size = batch_size\n",
    "        self.mnist = model.download_mnist_retry(seed=worker_index)\n",
    "        self.net = model.SimpleCNN()\n",
    "        self.curritr = curritr\n",
    "        # self.currGradient = currGradient\n",
    "\n",
    "    def compute_gradients(self, weights):\n",
    "        self.net.variables.set_flat(weights)\n",
    "        xs, ys = self.mnist.train.next_batch(self.batch_size)\n",
    "\n",
    "        # Measure accuracy of the epoch\n",
    "        test_xs, test_ys = self.mnist.test.next_batch(1000)\n",
    "        accuracy = self.net.compute_accuracy(test_xs, test_ys)\n",
    "        # print(\"Worker {} : Iteration {} : accuracy is {}\".format(self.worker_index, self.curritr, accuracy))\n",
    "        self.curritr = self.curritr + 1\n",
    "        tic = time.time()\n",
    "        gradients = self.net.compute_gradients(xs, ys)\n",
    "        toc = time.time()\n",
    "        # print(\"Time of computing gradients on worker {}: {}\".format(self.worker_index, str(toc - tic)))\n",
    "        return gradients\n",
    "\n",
    "    def getWorkerIndex(self):\n",
    "        return self.worker_index\n",
    "\n"
   ]
  },
  {
   "cell_type": "code",
   "execution_count": 2,
   "metadata": {},
   "outputs": [
    {
     "name": "stderr",
     "output_type": "stream",
     "text": [
      "Process STDOUT and STDERR is being redirected to /tmp/raylogs/.\n",
      "Waiting for redis server at 127.0.0.1:56913 to respond...\n",
      "Waiting for redis server at 127.0.0.1:32004 to respond...\n",
      "Starting local scheduler with the following resources: {'CPU': 4, 'GPU': 0}.\n",
      "\n",
      "======================================================================\n",
      "View the web UI at http://localhost:8901/notebooks/ray_ui80357.ipynb?token=8075a5f884e1c324c1c4727d9e8b82decb60bf2fef31f301\n",
      "======================================================================\n",
      "\n"
     ]
    },
    {
     "data": {
      "text/plain": [
       "{'local_scheduler_socket_names': ['/tmp/scheduler22429723'],\n",
       " 'node_ip_address': '192.168.0.21',\n",
       " 'object_store_addresses': [ObjectStoreAddress(name='/tmp/plasma_store90692746', manager_name='/tmp/plasma_manager74632688', manager_port=43783)],\n",
       " 'raylet_socket_names': [],\n",
       " 'redis_address': '192.168.0.21:56913',\n",
       " 'webui_url': 'http://localhost:8901/notebooks/ray_ui80357.ipynb?token=8075a5f884e1c324c1c4727d9e8b82decb60bf2fef31f301'}"
      ]
     },
     "execution_count": 2,
     "metadata": {},
     "output_type": "execute_result"
    }
   ],
   "source": [
    "ray.init(redis_address=None)"
   ]
  },
  {
   "cell_type": "code",
   "execution_count": 11,
   "metadata": {},
   "outputs": [],
   "source": [
    "net = model.SimpleCNN()"
   ]
  },
  {
   "cell_type": "code",
   "execution_count": 10,
   "metadata": {},
   "outputs": [
    {
     "name": "stdout",
     "output_type": "stream",
     "text": [
      "(3274634,)\n",
      "[-0.06786127  0.09586894 -0.14442368  0.02245787  0.1208694 ]\n",
      "INFO:tensorflow:Restoring parameters from ./model/model.ckpt\n"
     ]
    },
    {
     "name": "stderr",
     "output_type": "stream",
     "text": [
      "Restoring parameters from ./model/model.ckpt\n"
     ]
    },
    {
     "name": "stdout",
     "output_type": "stream",
     "text": [
      "[ 0.13178575 -0.04229557 -0.0367154  -0.13505249  0.0378485 ]\n"
     ]
    }
   ],
   "source": [
    "print(net.variables.get_flat().shape)\n",
    "print(net.variables.get_flat()[:5])\n",
    "net.load_model()\n",
    "print(net.variables.get_flat()[:5])"
   ]
  },
  {
   "cell_type": "code",
   "execution_count": 4,
   "metadata": {},
   "outputs": [
    {
     "name": "stdout",
     "output_type": "stream",
     "text": [
      "Extracting MNIST_data/train-images-idx3-ubyte.gz\n",
      "Extracting MNIST_data/train-labels-idx1-ubyte.gz\n",
      "Extracting MNIST_data/t10k-images-idx3-ubyte.gz\n",
      "Extracting MNIST_data/t10k-labels-idx1-ubyte.gz\n",
      "4 2\n",
      "0 0.13\n",
      "1 0.205\n",
      "2 0.216\n",
      "3 0.261\n",
      "4 0.301\n",
      "5 0.387\n",
      "6 0.531\n",
      "7 0.503\n",
      "8 0.474\n",
      "9 0.531\n",
      "10 0.585\n",
      "11 0.581\n",
      "12 0.648\n",
      "13 0.691\n",
      "14 0.737\n",
      "15 0.757\n",
      "16 0.779\n",
      "17 0.767\n",
      "18 0.768\n",
      "19 0.767\n",
      "20 0.779\n",
      "21 0.788\n",
      "22 0.785\n",
      "23 0.817\n",
      "24 0.823\n",
      "25 0.827\n",
      "26 0.81\n",
      "27 0.826\n",
      "28 0.841\n",
      "29 0.834\n",
      "30 0.836\n",
      "31 0.843\n",
      "32 0.853\n",
      "33 0.854\n",
      "34 0.866\n",
      "35 0.885\n",
      "36 0.886\n",
      "37 0.858\n",
      "38 0.872\n",
      "39 0.872\n",
      "40 0.883\n",
      "41 0.883\n",
      "42 0.899\n",
      "43 0.876\n",
      "44 0.88\n",
      "45 0.908\n",
      "46 0.9\n",
      "47 0.904\n",
      "48 0.896\n",
      "49 0.894\n",
      "50 0.895\n",
      "51 0.905\n",
      "52 0.898\n",
      "53 0.912\n",
      "54 0.908\n",
      "55 0.92\n",
      "56 0.903\n",
      "57 0.911\n",
      "58 0.912\n",
      "59 0.927\n",
      "60 0.906\n",
      "61 0.917\n",
      "62 0.903\n",
      "63 0.909\n",
      "64 0.922\n",
      "65 0.921\n",
      "66 0.918\n",
      "67 0.937\n",
      "68 0.911\n",
      "69 0.935\n",
      "70 0.928\n",
      "71 0.937\n",
      "72 0.927\n",
      "73 0.913\n",
      "74 0.906\n",
      "75 0.928\n",
      "76 0.921\n",
      "77 0.923\n",
      "78 0.934\n",
      "79 0.945\n",
      "80 0.915\n",
      "81 0.932\n",
      "82 0.939\n",
      "83 0.952\n",
      "84 0.928\n",
      "85 0.942\n",
      "86 0.928\n",
      "87 0.943\n",
      "88 0.943\n",
      "89 0.929\n",
      "90 0.933\n",
      "91 0.935\n",
      "92 0.928\n",
      "93 0.933\n",
      "94 0.938\n",
      "95 0.953\n",
      "96 0.937\n",
      "97 0.928\n",
      "98 0.933\n",
      "99 0.945\n",
      "100 0.932\n"
     ]
    }
   ],
   "source": [
    "net = model.SimpleCNN()\n",
    "ps = ParameterServer.remote(1e-4 * num_workers)\n",
    "# Create workers.\n",
    "workers = [Worker.remote(worker_index)\n",
    "            for worker_index in range(num_workers)]\n",
    "\n",
    "# Download MNIST.\n",
    "mnist = model.download_mnist_retry()\n",
    "\n",
    "i = 0\n",
    "backups = backups #no. of stragglers, we will ignore results from them\n",
    "print(num_workers, backups)\n",
    "current_weights = ps.get_weights.remote()\n",
    "\n",
    "accs = []\n",
    "while i<=100:\n",
    "    fobj_to_workerID_dict = {} #mapping between remotefns to worker_ids\n",
    "    compute_tasks = []\n",
    "    \n",
    "    for worker_id in range(0,num_workers):\n",
    "        worker = workers[worker_id]\n",
    "        remotefn = worker.compute_gradients.remote(current_weights)\n",
    "        compute_tasks.append(remotefn)\n",
    "        fobj_to_workerID_dict[remotefn] = worker_id\n",
    "        \n",
    "    fast_function_ids, straggler_function_ids  = ray.wait(compute_tasks, num_returns=num_workers-backups)\n",
    "    fast_gradients = [ray.get(fast_id) for fast_id in fast_function_ids]\n",
    "    \n",
    "    current_weights = ps.apply_gradients.remote(*fast_gradients)\n",
    "    net.variables.set_flat(ray.get(current_weights))\n",
    "    \n",
    "    test_xs, test_ys = mnist.test.next_batch(1000)\n",
    "    accuracy = net.compute_accuracy(test_xs, test_ys)\n",
    "    print(i, accuracy)\n",
    "    accs.append(accuracy)\n",
    "    i += 1"
   ]
  },
  {
   "cell_type": "code",
   "execution_count": 5,
   "metadata": {},
   "outputs": [
    {
     "data": {
      "text/plain": [
       "[<matplotlib.lines.Line2D at 0x10ebcb278>]"
      ]
     },
     "execution_count": 5,
     "metadata": {},
     "output_type": "execute_result"
    },
    {
     "data": {
      "image/png": "[encoded data removed]",
      "text/plain": [
       "<Figure size 432x288 with 1 Axes>"
      ]
     },
     "metadata": {},
     "output_type": "display_data"
    }
   ],
   "source": [
    "from matplotlib import pyplot as plt\n",
    "%matplotlib inline\n",
    "plt.plot(accs)"
   ]
  },
  {
   "cell_type": "code",
   "execution_count": 7,
   "metadata": {},
   "outputs": [
    {
     "name": "stdout",
     "output_type": "stream",
     "text": [
      "INFO:tensorflow:Restoring parameters from ./model/model.ckpt\n"
     ]
    },
    {
     "name": "stderr",
     "output_type": "stream",
     "text": [
      "Restoring parameters from ./model/model.ckpt\n"
     ]
    },
    {
     "name": "stdout",
     "output_type": "stream",
     "text": [
      "Extracting MNIST_data/train-images-idx3-ubyte.gz\n",
      "Extracting MNIST_data/train-labels-idx1-ubyte.gz\n",
      "Extracting MNIST_data/t10k-images-idx3-ubyte.gz\n",
      "Extracting MNIST_data/t10k-labels-idx1-ubyte.gz\n",
      "4 2\n",
      "[ 0.13178575 -0.04229557 -0.0367154  -0.13505249  0.0378485 ]\n",
      "0 0.934\n",
      "1 0.927\n",
      "2 0.9\n",
      "3 0.929\n",
      "4 0.942\n",
      "5 0.927\n",
      "6 0.935\n",
      "7 0.936\n",
      "8 0.929\n",
      "9 0.927\n",
      "10 0.933\n",
      "11 0.921\n",
      "12 0.925\n",
      "13 0.92\n",
      "14 0.925\n",
      "15 0.941\n",
      "16 0.947\n",
      "17 0.938\n",
      "18 0.941\n",
      "19 0.946\n",
      "20 0.946\n",
      "21 0.949\n",
      "22 0.943\n",
      "23 0.944\n",
      "24 0.936\n",
      "25 0.947\n",
      "26 0.951\n",
      "27 0.951\n",
      "28 0.944\n",
      "29 0.943\n",
      "30 0.941\n",
      "31 0.941\n",
      "32 0.945\n",
      "33 0.936\n",
      "34 0.942\n",
      "35 0.953\n",
      "36 0.956\n",
      "37 0.928\n",
      "38 0.935\n",
      "39 0.947\n",
      "40 0.944\n",
      "41 0.948\n",
      "42 0.951\n",
      "43 0.949\n",
      "44 0.94\n",
      "45 0.949\n",
      "46 0.951\n",
      "47 0.948\n",
      "48 0.956\n",
      "49 0.953\n",
      "50 0.947\n"
     ]
    }
   ],
   "source": [
    "net = model.SimpleCNN()\n",
    "net.load_model()\n",
    "ps = ParameterServer.remote(1e-4 * num_workers)\n",
    "set_weight = ps.set_weights.remote(net.variables.get_flat())\n",
    "wait_set_weight = ray.get(set_weight)\n",
    "# Create workers.\n",
    "workers = [Worker.remote(worker_index)\n",
    "            for worker_index in range(num_workers)]\n",
    "\n",
    "# Download MNIST.\n",
    "mnist = model.download_mnist_retry()\n",
    "\n",
    "i = 0\n",
    "backups = backups #no. of stragglers, we will ignore results from them\n",
    "print(num_workers, backups)\n",
    "current_weights = ps.get_weights.remote()\n",
    "print(ray.get(current_weights)[:5])\n",
    "\n",
    "accs2 = []\n",
    "while i<=50:\n",
    "    fobj_to_workerID_dict = {} #mapping between remotefns to worker_ids\n",
    "    compute_tasks = []\n",
    "    \n",
    "    for worker_id in range(0,num_workers):\n",
    "        worker = workers[worker_id]\n",
    "        remotefn = worker.compute_gradients.remote(current_weights)\n",
    "        compute_tasks.append(remotefn)\n",
    "        fobj_to_workerID_dict[remotefn] = worker_id\n",
    "        \n",
    "    fast_function_ids, straggler_function_ids  = ray.wait(compute_tasks, num_returns=num_workers-backups)\n",
    "    fast_gradients = [ray.get(fast_id) for fast_id in fast_function_ids]\n",
    "    \n",
    "    current_weights = ps.apply_gradients.remote(*fast_gradients)\n",
    "    net.variables.set_flat(ray.get(current_weights))\n",
    "    \n",
    "    test_xs, test_ys = mnist.test.next_batch(1000)\n",
    "    accuracy = net.compute_accuracy(test_xs, test_ys)\n",
    "    print(i, accuracy)\n",
    "    accs2.append(accuracy)\n",
    "    i += 1"
   ]
  },
  {
   "cell_type": "code",
   "execution_count": 8,
   "metadata": {},
   "outputs": [
    {
     "data": {
      "text/plain": [
       "[<matplotlib.lines.Line2D at 0x12f2db748>]"
      ]
     },
     "execution_count": 8,
     "metadata": {},
     "output_type": "execute_result"
    },
    {
     "data": {
      "image/png": "[encoded data removed]",
      "text/plain": [
       "<Figure size 432x288 with 1 Axes>"
      ]
     },
     "metadata": {},
     "output_type": "display_data"
    }
   ],
   "source": [
    "plt.plot(accs2)"
   ]
  }
 ],
 "metadata": {
  "kernelspec": {
   "display_name": "Python 3",
   "language": "python",
   "name": "python3"
  },
  "language_info": {
   "codemirror_mode": {
    "name": "ipython",
    "version": 3
   },
   "file_extension": ".py",
   "mimetype": "text/x-python",
   "name": "python",
   "nbconvert_exporter": "python",
   "pygments_lexer": "ipython3",
   "version": "3.5.5"
  }
 },
 "nbformat": 4,
 "nbformat_minor": 2
}
